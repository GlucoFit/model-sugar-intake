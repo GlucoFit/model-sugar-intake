{
  "nbformat": 4,
  "nbformat_minor": 0,
  "metadata": {
    "colab": {
      "provenance": [],
      "gpuType": "T4"
    },
    "kernelspec": {
      "name": "python3",
      "display_name": "Python 3"
    },
    "language_info": {
      "name": "python"
    },
    "accelerator": "GPU"
  },
  "cells": [
    {
      "cell_type": "markdown",
      "source": [
        "##Import Library"
      ],
      "metadata": {
        "id": "zximLXU0Yysp"
      }
    },
    {
      "cell_type": "code",
      "execution_count": null,
      "metadata": {
        "id": "UoeL1Nt1YA7p"
      },
      "outputs": [],
      "source": [
        "import pandas as pd\n",
        "from sklearn.model_selection import train_test_split\n",
        "from sklearn.preprocessing import OneHotEncoder, StandardScaler\n",
        "from sklearn.compose import ColumnTransformer\n",
        "from sklearn.pipeline import Pipeline\n",
        "from sklearn.metrics import mean_squared_error\n",
        "import tensorflow as tf\n",
        "from tensorflow.keras.models import Sequential\n",
        "from tensorflow.keras.layers import Dense"
      ]
    },
    {
      "cell_type": "markdown",
      "source": [
        "##Load Dataset"
      ],
      "metadata": {
        "id": "7A2pbRtiY8nv"
      }
    },
    {
      "cell_type": "code",
      "source": [
        "data = pd.read_csv(\"/content/sample_data/Dummy_data_no_user.csv\")"
      ],
      "metadata": {
        "id": "VeMHUzK5Y_CY"
      },
      "execution_count": null,
      "outputs": []
    },
    {
      "cell_type": "markdown",
      "source": [
        "##Select features and target"
      ],
      "metadata": {
        "id": "pNeAP0P4c9__"
      }
    },
    {
      "cell_type": "code",
      "source": [
        "features = ['age', 'height', 'weight', 'diabetes_history', 'diabetes_heritage']\n",
        "target = 'recommended_sugar_intake'\n",
        "\n",
        "print(\"Columns in the DataFrame:\", data.columns.tolist())"
      ],
      "metadata": {
        "id": "JVSEbOjBdHtm",
        "colab": {
          "base_uri": "https://localhost:8080/"
        },
        "outputId": "880d1985-bc21-48bc-8ba6-f605e140ec56"
      },
      "execution_count": null,
      "outputs": [
        {
          "output_type": "stream",
          "name": "stdout",
          "text": [
            "Columns in the DataFrame: ['age', 'height', 'weight', 'diabetes_history', 'diabetes_heritage', 'recommended_sugar_intake']\n"
          ]
        }
      ]
    },
    {
      "cell_type": "markdown",
      "source": [
        "##Handle missing values"
      ],
      "metadata": {
        "id": "nutAWlI4dZXc"
      }
    },
    {
      "cell_type": "code",
      "source": [
        "data = data.dropna()"
      ],
      "metadata": {
        "id": "BXr-ox5OdxZu"
      },
      "execution_count": null,
      "outputs": []
    },
    {
      "cell_type": "markdown",
      "source": [
        "##List of features to scale"
      ],
      "metadata": {
        "id": "HVOD9Iq7BPYw"
      }
    },
    {
      "cell_type": "code",
      "source": [
        "categorical_features = ['diabetes_history', 'diabetes_heritage']\n",
        "numeric_features = ['age', 'height', 'weight']\n"
      ],
      "metadata": {
        "id": "W5cC_uDOBbKC"
      },
      "execution_count": null,
      "outputs": []
    },
    {
      "cell_type": "markdown",
      "source": [
        "##Preprocess data"
      ],
      "metadata": {
        "id": "tK_TOSdXd3DO"
      }
    },
    {
      "cell_type": "code",
      "source": [
        "preprocessor = ColumnTransformer(\n",
        "    transformers=[\n",
        "        ('num', 'passthrough', numeric_features),\n",
        "        ('cat', OneHotEncoder(), categorical_features)\n",
        "    ])"
      ],
      "metadata": {
        "id": "RXwi5fa1d7hM"
      },
      "execution_count": null,
      "outputs": []
    },
    {
      "cell_type": "markdown",
      "source": [
        "##Linear Regression Model"
      ],
      "metadata": {
        "id": "cofu7kQgeNvb"
      }
    },
    {
      "cell_type": "code",
      "source": [
        "X = data[features]\n",
        "y = data[target]\n",
        "X_train, X_test, y_train, y_test = train_test_split(X, y, test_size=0.2, random_state=42)\n",
        "\n",
        "# Create a pipeline with preprocessing and linear regression\n",
        "X_train = preprocessor.fit_transform(X_train)\n",
        "X_test = preprocessor.transform(X_test)\n",
        "\n",
        "model = Sequential([\n",
        "    Dense(1, input_dim=X_train.shape[1], activation='linear')\n",
        "])"
      ],
      "metadata": {
        "id": "UnHvRdxceQkR"
      },
      "execution_count": null,
      "outputs": []
    },
    {
      "cell_type": "markdown",
      "source": [
        "##Compile the model"
      ],
      "metadata": {
        "id": "o4y6AOxhOxcm"
      }
    },
    {
      "cell_type": "code",
      "source": [
        "model.compile(optimizer='adam', loss='mean_squared_error')"
      ],
      "metadata": {
        "id": "R89gyC37Oz-d"
      },
      "execution_count": null,
      "outputs": []
    },
    {
      "cell_type": "markdown",
      "source": [
        "##Fit the model to the data"
      ],
      "metadata": {
        "id": "E0hEX3VjeXcv"
      }
    },
    {
      "cell_type": "code",
      "source": [
        "model.fit(X_train, y_train, epochs=100, validation_split=0.2, verbose=0)"
      ],
      "metadata": {
        "id": "YlHF6DpcecPu",
        "colab": {
          "base_uri": "https://localhost:8080/"
        },
        "outputId": "9d1d7b2a-6b18-4096-f770-4f37006e0555"
      },
      "execution_count": null,
      "outputs": [
        {
          "output_type": "execute_result",
          "data": {
            "text/plain": [
              "<keras.src.callbacks.History at 0x7a0de0038160>"
            ]
          },
          "metadata": {},
          "execution_count": 10
        }
      ]
    },
    {
      "cell_type": "markdown",
      "source": [
        "Make predictions"
      ],
      "metadata": {
        "id": "yCtYWZEkemRK"
      }
    },
    {
      "cell_type": "code",
      "source": [
        "y_pred = model.predict(X_test)"
      ],
      "metadata": {
        "id": "6ybDav4Keoay",
        "colab": {
          "base_uri": "https://localhost:8080/"
        },
        "outputId": "5f01213e-ac59-4cfd-96e2-f35824954460"
      },
      "execution_count": null,
      "outputs": [
        {
          "output_type": "stream",
          "name": "stdout",
          "text": [
            "16/16 [==============================] - 0s 5ms/step\n"
          ]
        }
      ]
    },
    {
      "cell_type": "markdown",
      "source": [
        "##Evalute the Model"
      ],
      "metadata": {
        "id": "AecgUX8ue1Fh"
      }
    },
    {
      "cell_type": "code",
      "source": [
        "mse = mean_squared_error(y_test, y_pred)\n",
        "rmse = mse ** 0.5\n",
        "\n",
        "print(f'MSE: {mse}, RMSE: {rmse}')"
      ],
      "metadata": {
        "id": "ZrDxt4tjetfl",
        "colab": {
          "base_uri": "https://localhost:8080/"
        },
        "outputId": "15053577-5ea7-4b60-c2cc-6387f26ef27f"
      },
      "execution_count": null,
      "outputs": [
        {
          "output_type": "stream",
          "name": "stdout",
          "text": [
            "MSE: 42.26395635794814, RMSE: 6.501073477353424\n"
          ]
        }
      ]
    },
    {
      "cell_type": "markdown",
      "source": [
        "##Save and load the Model"
      ],
      "metadata": {
        "id": "Uu3aqorPGRft"
      }
    },
    {
      "cell_type": "code",
      "source": [
        "model.save(\"/content/sample_data/Recommended_Sugar_Intake_Model_TF.h5\")\n",
        "print(\"Model saved successfully\")\n",
        "\n",
        "loaded_model = tf.keras.models.load_model(\"/content/sample_data/Recommended_Sugar_Intake_Model_TF.h5\")\n",
        "print(\"Model loaded successfully\")"
      ],
      "metadata": {
        "colab": {
          "base_uri": "https://localhost:8080/"
        },
        "id": "bE_U42NyGNxA",
        "outputId": "986cef98-2900-4cb1-f919-d2e48c0ce7f5"
      },
      "execution_count": null,
      "outputs": [
        {
          "output_type": "stream",
          "name": "stdout",
          "text": [
            "Model saved successfully\n",
            "Model loaded successfully\n"
          ]
        },
        {
          "output_type": "stream",
          "name": "stderr",
          "text": [
            "/usr/local/lib/python3.10/dist-packages/keras/src/engine/training.py:3103: UserWarning: You are saving your model as an HDF5 file via `model.save()`. This file format is considered legacy. We recommend using instead the native Keras format, e.g. `model.save('my_model.keras')`.\n",
            "  saving_api.save_model(\n"
          ]
        }
      ]
    },
    {
      "cell_type": "markdown",
      "source": [
        "##Prediction on New Data"
      ],
      "metadata": {
        "id": "8nJwR_Mle7TB"
      }
    },
    {
      "cell_type": "code",
      "source": [
        "def predict_sugar_intake(model, age, height, weight, diabetes_history, diabetes_heritage):\n",
        "    # Create a DataFrame with the input data\n",
        "    input_data = pd.DataFrame({\n",
        "        'age': [age],\n",
        "        'height': [height],\n",
        "        'weight': [weight],\n",
        "        'diabetes_history': [diabetes_history],\n",
        "        'diabetes_heritage': [diabetes_heritage]\n",
        "    })\n",
        "\n",
        "    # Apply label encoders to the input data\n",
        "    for feature in categorical_features:\n",
        "        input_data[feature] = label_encoders[feature].transform(input_data[feature])\n",
        "\n",
        "    # Apply the preprocessor to the input data\n",
        "    input_data_processed = preprocessor.transform(input_data)\n",
        "\n",
        "    # Predict the recommended sugar intake\n",
        "    predicted_sugar_intake = model.predict(input_data_processed)\n",
        "\n",
        "    return predicted_sugar_intake[0][0]\n",
        "\n",
        "# Example usage of the function\n",
        "example_prediction = predict_sugar_intake(loaded_model, age=44, height=175, weight=70, diabetes_history='Yes', diabetes_heritage='No')\n",
        "print(f'Example Prediction: {example_prediction}')"
      ],
      "metadata": {
        "id": "CehJRGDKe-C5",
        "colab": {
          "base_uri": "https://localhost:8080/"
        },
        "outputId": "464a77b7-fd4b-4241-dbac-045b6f14001c"
      },
      "execution_count": null,
      "outputs": [
        {
          "output_type": "stream",
          "name": "stdout",
          "text": [
            "1/1 [==============================] - 0s 107ms/step\n",
            "Example Prediction: 30.46263885498047\n"
          ]
        }
      ]
    },
    {
      "cell_type": "code",
      "source": [
        "from google.colab import drive\n",
        "drive.mount('/content/drive')\n",
        "\n",
        "from tensorflow.keras.models import load_model\n",
        "import tensorflow as tf\n",
        "\n",
        "# Path to your .h5 file in Google Drive\n",
        "h5_model_path = '/content/drive/MyDrive/Recommended_Sugar_Intake_Model_TF.h5'\n",
        "\n",
        "# Load the model\n",
        "model = load_model(h5_model_path)\n",
        "\n",
        "# Define the directory for checkpoints (without the filename)\n",
        "ckpt_dir = '/content/drive/MyDrive/'\n",
        "\n",
        "# Create a tf.train.Checkpoint object\n",
        "checkpoint = tf.train.Checkpoint(model=model)\n",
        "\n",
        "# Save the checkpoint files\n",
        "ckpt_path = checkpoint.save(ckpt_dir + 'model_sugar_intake')\n",
        "\n",
        "print(f'Saved checkpoint to {ckpt_path}')\n"
      ],
      "metadata": {
        "colab": {
          "base_uri": "https://localhost:8080/"
        },
        "id": "56p1R8KJRevn",
        "outputId": "0b7e0ad4-e24f-4606-ec27-592e201e40ca"
      },
      "execution_count": null,
      "outputs": [
        {
          "output_type": "stream",
          "name": "stdout",
          "text": [
            "Drive already mounted at /content/drive; to attempt to forcibly remount, call drive.mount(\"/content/drive\", force_remount=True).\n",
            "Saved checkpoint to /content/drive/MyDrive/model_sugar_intake-1\n"
          ]
        }
      ]
    }
  ]
}